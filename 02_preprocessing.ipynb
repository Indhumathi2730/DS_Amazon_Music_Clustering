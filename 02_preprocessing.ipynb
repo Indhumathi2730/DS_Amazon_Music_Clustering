{
 "cells": [
  {
   "cell_type": "code",
   "execution_count": 1,
   "id": "1c732a98",
   "metadata": {},
   "outputs": [
    {
     "name": "stdout",
     "output_type": "stream",
     "text": [
      "Shape: (95837, 23)\n",
      "   danceability    energy  loudness  speechiness  acousticness  \\\n",
      "0     -0.153476 -1.511128 -0.757909    -0.427109      1.616187   \n",
      "1     -1.028518 -1.528056 -1.098629    -0.369741      1.604081   \n",
      "2     -0.488051 -1.418027 -1.127899    -0.398062      1.622240   \n",
      "3      0.573581 -0.313510 -0.470677    -0.013914      1.610134   \n",
      "4      0.406294 -1.028695 -0.768227    -0.111948      1.610134   \n",
      "\n",
      "   instrumentalness  liveness   valence     tempo  duration_ms  \n",
      "0         -0.353338  0.538584  0.321287  0.515005    -0.311345  \n",
      "1         -0.353405 -0.521537 -0.577455 -1.294487     0.368718  \n",
      "2         -0.353405  1.039046 -0.375943 -1.560003     0.221609  \n",
      "3         -0.353405 -0.031836  0.611464  0.405268    -0.304798  \n",
      "4         -0.353405  0.796887  1.087031 -1.377593    -0.228190  \n",
      "✅ Preprocessing complete. Scaled features saved to data/processed_features.csv\n",
      "✅ Scaler object saved to models/scaler.pkl\n"
     ]
    }
   ],
   "source": [
    "# 02_preprocessing.ipynb\n",
    "\n",
    "# -----------------------\n",
    "# STEP 1: Import libraries\n",
    "# -----------------------\n",
    "import pandas as pd\n",
    "import numpy as np\n",
    "from sklearn.preprocessing import StandardScaler\n",
    "import joblib\n",
    "import os\n",
    "\n",
    "# -----------------------\n",
    "# STEP 2: Load dataset\n",
    "# -----------------------\n",
    "df = pd.read_csv(\"C:\\\\Users\\\\luna love\\\\Downloads\\\\Project4\\\\data\\\\single_genre_artists.csv\")\n",
    "print(\"Shape:\", df.shape)\n",
    "df.head()\n",
    "\n",
    "# -----------------------\n",
    "# STEP 3: Select features for clustering\n",
    "# -----------------------\n",
    "features = [\n",
    "    'danceability','energy','loudness','speechiness',\n",
    "    'acousticness','instrumentalness','liveness','valence',\n",
    "    'tempo','duration_ms'\n",
    "]\n",
    "\n",
    "X = df[features].copy()\n",
    "\n",
    "# -----------------------\n",
    "# STEP 4: Handle skewed features (optional)\n",
    "# Log-transform duration_ms (song length)\n",
    "# -----------------------\n",
    "X['duration_ms'] = np.log1p(X['duration_ms'])\n",
    "\n",
    "# -----------------------\n",
    "# STEP 5: Scale features\n",
    "# -----------------------\n",
    "scaler = StandardScaler()\n",
    "X_scaled = scaler.fit_transform(X)\n",
    "\n",
    "# Convert back to DataFrame for inspection\n",
    "X_scaled_df = pd.DataFrame(X_scaled, columns=features)\n",
    "print(X_scaled_df.head())\n",
    "\n",
    "# -----------------------\n",
    "# STEP 6: Save processed features and scaler\n",
    "# -----------------------\n",
    "# Ensure paths exist\n",
    "os.makedirs(\"../data\", exist_ok=True)\n",
    "os.makedirs(\"../models\", exist_ok=True)\n",
    "\n",
    "# Save scaled features\n",
    "X_scaled_df.to_csv(\"../data/processed_features.csv\", index=False)\n",
    "\n",
    "# Save scaler object\n",
    "joblib.dump(scaler, \"../models/scaler.pkl\")\n",
    "\n",
    "print(\"✅ Preprocessing complete. Scaled features saved to data/processed_features.csv\")\n",
    "print(\"✅ Scaler object saved to models/scaler.pkl\")\n"
   ]
  },
  {
   "cell_type": "code",
   "execution_count": null,
   "id": "dc3391ea",
   "metadata": {},
   "outputs": [],
   "source": []
  }
 ],
 "metadata": {
  "kernelspec": {
   "display_name": "Python 3",
   "language": "python",
   "name": "python3"
  },
  "language_info": {
   "codemirror_mode": {
    "name": "ipython",
    "version": 3
   },
   "file_extension": ".py",
   "mimetype": "text/x-python",
   "name": "python",
   "nbconvert_exporter": "python",
   "pygments_lexer": "ipython3",
   "version": "3.13.7"
  }
 },
 "nbformat": 4,
 "nbformat_minor": 5
}
